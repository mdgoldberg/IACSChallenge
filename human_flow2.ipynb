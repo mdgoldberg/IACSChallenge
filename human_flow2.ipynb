{
 "cells": [
  {
   "cell_type": "code",
   "execution_count": 1,
   "metadata": {
    "collapsed": false
   },
   "outputs": [],
   "source": [
    "import numpy as np\n",
    "import pandas as pd\n",
    "import csv\n",
    "import sklearn as sk\n",
    "import matplotlib.pyplot as plt\n",
    "import pickle as pkl"
   ]
  },
  {
   "cell_type": "code",
   "execution_count": 2,
   "metadata": {
    "collapsed": true
   },
   "outputs": [],
   "source": [
    "%matplotlib inline"
   ]
  },
  {
   "cell_type": "code",
   "execution_count": 3,
   "metadata": {
    "collapsed": false
   },
   "outputs": [],
   "source": [
    "# Read in data\n",
    "\n",
    "train = 'data/newtrain.csv'\n",
    "test = 'data/newtest.csv'\n",
    "tr_dat = pd.read_csv(train)\n",
    "te_dat = pd.read_csv(test)\n",
    "geo_feats = pkl.load(open('neighbor_feat.jpg', 'rb'))"
   ]
  },
  {
   "cell_type": "code",
   "execution_count": 4,
   "metadata": {
    "collapsed": false
   },
   "outputs": [],
   "source": [
    "# %%timeit\n",
    "\n",
    "# Get count /sensor /hour over all days\n",
    "# Note: first column is padded w/ all zeros\n",
    "\n",
    "n_sensors = 56\n",
    "n_days = 30\n",
    "n_hours = 24\n",
    "\n",
    "hour_count = np.zeros((n_days*n_hours, n_sensors))\n",
    "#num_nans = []\n",
    "\n",
    "for i in xrange(n_sensors):\n",
    "    for j in xrange(n_days):\n",
    "        for k in xrange(n_hours):\n",
    "            offset = j*1440 + k*60\n",
    "            min_count = tr_dat.iloc[:,i][offset:offset+60]\n",
    "            n_nans = np.count_nonzero(np.isnan(min_count))\n",
    "            if n_nans > 0:\n",
    "                hour_count[j*24+k][i] = -1\n",
    "#                num_nans.append(n_nans)\n",
    "            else:\n",
    "                hour_count[j*24+k][i] = np.sum(tr_dat.iloc[:,i+1][offset:offset+60])"
   ]
  },
  {
   "cell_type": "code",
   "execution_count": 5,
   "metadata": {
    "collapsed": true
   },
   "outputs": [],
   "source": [
    "# train feats and target\n",
    "dom = pd.get_dummies(np.reshape(np.transpose(np.tile(np.arange(30), (24,1))), (720,)))\n",
    "dow = pd.get_dummies(np.reshape(np.transpose(np.tile(np.arange(30), (24,1))), (720,)) % 7)\n",
    "hour = pd.get_dummies(np.reshape(np.tile(np.arange(24), (30,1)), (720,)))\n",
    "time_feats = np.hstack((dom, dow, hour))\n",
    "feats = np.hstack((np.repeat(time_feats, 56, axis=0), pd.get_dummies(np.tile(np.arange(56), 720)), np.reshape(geo_feats, (720*56,1))))"
   ]
  },
  {
   "cell_type": "code",
   "execution_count": 287,
   "metadata": {
    "collapsed": false,
    "scrolled": true
   },
   "outputs": [],
   "source": [
    "# drop NaNs\n",
    "targets = np.reshape(hour_count, np.size(hour_count))\n",
    "to_remove = np.where(targets >= 0)\n",
    "y = targets[to_remove[0]]\n",
    "X = feats[to_remove[0]]"
   ]
  },
  {
   "cell_type": "code",
   "execution_count": 14,
   "metadata": {
    "collapsed": false
   },
   "outputs": [],
   "source": [
    "# use geo data as target\n",
    "targets = np.reshape(hour_count, np.size(hour_count))\n",
    "to_remove = np.where(targets < 0)\n",
    "for row in to_remove[0]:\n",
    "    targets[row] = geo_feats[feats[row][0]*24+feats[row][2]][feats[row][3]]\n",
    "y = targets\n",
    "X = feats"
   ]
  },
  {
   "cell_type": "code",
   "execution_count": 12,
   "metadata": {
    "collapsed": false
   },
   "outputs": [],
   "source": [
    "# test feats\n",
    "\n",
    "te_sensors = pd.get_dummies(range(56) + [int(x[1:]) for x in te_dat.iloc[:,0]])[56:]\n",
    "\n",
    "te_dom = pd.get_dummies(te_dat['start_day'])\n",
    "te_dow = pd.get_dummies(te_dat['start_day'] % 7)\n",
    "\n",
    "te_hour = pd.get_dummies(range(24) + list(te_dat.iloc[:,4]))[24:]\n",
    "te_geo_feat = np.array([geo_feats[24*(row[3] -1) + row[4]][int(row[0][1:])] for i, row in te_dat.iterrows()])\n",
    "te_geo_feat = np.reshape(te_geo_feat, (np.size(te_geo_feat),1))\n",
    "te_feats = np.hstack((te_dom, te_dow, te_hour, te_sensors, te_geo_feat))"
   ]
  },
  {
   "cell_type": "code",
   "execution_count": 184,
   "metadata": {
    "collapsed": false
   },
   "outputs": [],
   "source": [
    "from sklearn.linear_model import Ridge\n",
    "\n",
    "ridge = Ridge()\n",
    "ridge = ridge.fit(X, y)\n",
    "ridge_preds = ridge.predict(te_feats)"
   ]
  },
  {
   "cell_type": "code",
   "execution_count": 15,
   "metadata": {
    "collapsed": false
   },
   "outputs": [],
   "source": [
    "from sklearn.ensemble import RandomForestRegressor\n",
    "\n",
    "rf = RandomForestRegressor(n_estimators = 50)\n",
    "rf = rf.fit(X,y)"
   ]
  },
  {
   "cell_type": "code",
   "execution_count": 17,
   "metadata": {
    "collapsed": false
   },
   "outputs": [
    {
     "name": "stdout",
     "output_type": "stream",
     "text": [
      "[ 7.06  5.6   5.34 ...,  0.62  1.08  1.58]\n"
     ]
    }
   ],
   "source": [
    "rf_preds = rf.predict(te_feats)\n",
    "print rf_preds"
   ]
  },
  {
   "cell_type": "code",
   "execution_count": 117,
   "metadata": {
    "collapsed": false
   },
   "outputs": [
    {
     "data": {
      "image/png": "[encoded data removed]",
      "text/plain": [
       "<matplotlib.figure.Figure at 0xe689b38>"
      ]
     },
     "metadata": {},
     "output_type": "display_data"
    }
   ],
   "source": [
    "# NOW SENSORS ARE ONE-INDEXED (first col is all zeros)\n",
    "\n",
    "plt.plot(hour_count[:,2])\n",
    "#plt.plot(hour_count[:,3])\n",
    "#plt.plot(hour_count[:,7])\n",
    "#plt.plot(hour_count[:,33])\n",
    "plt.show()"
   ]
  },
  {
   "cell_type": "code",
   "execution_count": 40,
   "metadata": {
    "collapsed": false
   },
   "outputs": [],
   "source": [
    "# Random predictions\n",
    "\n",
    "s = {'Count': pd.Series(np.random.randn(np.shape(te_dat)[0]), index=np.array(range(np.shape(te_dat)[0]))+1)}\n",
    "s = pd.DataFrame(s)"
   ]
  },
  {
   "cell_type": "code",
   "execution_count": 18,
   "metadata": {
    "collapsed": false
   },
   "outputs": [],
   "source": [
    "# Write predictions\n",
    "\n",
    "s = {'Count': pd.Series(rf_preds, index=np.array(range(np.shape(te_dat)[0]))+1)}\n",
    "s = pd.DataFrame(s)\n",
    "pred_file = 'rf_preds.txt'\n",
    "s.to_csv(pred_file, header=True, index=True, index_label=\"Index\")"
   ]
  }
 ],
 "metadata": {
  "kernelspec": {
   "display_name": "Python 2",
   "language": "python",
   "name": "python2"
  },
  "language_info": {
   "codemirror_mode": {
    "name": "ipython",
    "version": 2
   },
   "file_extension": ".py",
   "mimetype": "text/x-python",
   "name": "python",
   "nbconvert_exporter": "python",
   "pygments_lexer": "ipython2",
   "version": "2.7.10"
  }
 },
 "nbformat": 4,
 "nbformat_minor": 0
}
